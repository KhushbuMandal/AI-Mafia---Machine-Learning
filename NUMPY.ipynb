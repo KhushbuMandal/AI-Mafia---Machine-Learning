{
 "cells": [
  {
   "cell_type": "code",
   "execution_count": 1,
   "id": "651b5122",
   "metadata": {},
   "outputs": [
    {
     "name": "stdout",
     "output_type": "stream",
     "text": [
      "Hello World\n"
     ]
    }
   ],
   "source": [
    "print(\"Hello World\")\n"
   ]
  },
  {
   "cell_type": "code",
   "execution_count": 2,
   "id": "6bb58a3c",
   "metadata": {},
   "outputs": [
    {
     "name": "stdout",
     "output_type": "stream",
     "text": [
      "Requirement already satisfied: numpy in c:\\users\\khush\\anaconda3\\lib\\site-packages (1.23.5)\n"
     ]
    }
   ],
   "source": [
    "!pip3 install numpy"
   ]
  },
  {
   "cell_type": "markdown",
   "id": "44caab76",
   "metadata": {},
   "source": [
    "# #we are going to learn numpy"
   ]
  },
  {
   "cell_type": "code",
   "execution_count": 3,
   "id": "6ebab1e8",
   "metadata": {},
   "outputs": [],
   "source": [
    "import numpy as np"
   ]
  },
  {
   "cell_type": "code",
   "execution_count": 4,
   "id": "46a165c4",
   "metadata": {},
   "outputs": [],
   "source": [
    "arr = np.array ([[ 1, 2 , 3],\n",
    "                [4 , 2 , 5]])"
   ]
  },
  {
   "cell_type": "code",
   "execution_count": 5,
   "id": "edabbb56",
   "metadata": {},
   "outputs": [
    {
     "data": {
      "text/plain": [
       "numpy.ndarray"
      ]
     },
     "execution_count": 5,
     "metadata": {},
     "output_type": "execute_result"
    }
   ],
   "source": [
    "type (arr)"
   ]
  },
  {
   "cell_type": "code",
   "execution_count": 6,
   "id": "8744b309",
   "metadata": {},
   "outputs": [
    {
     "data": {
      "text/plain": [
       "2"
      ]
     },
     "execution_count": 6,
     "metadata": {},
     "output_type": "execute_result"
    }
   ],
   "source": [
    "arr.ndim"
   ]
  },
  {
   "cell_type": "code",
   "execution_count": 7,
   "id": "24fd0d8c",
   "metadata": {},
   "outputs": [
    {
     "data": {
      "text/plain": [
       "(2, 3)"
      ]
     },
     "execution_count": 7,
     "metadata": {},
     "output_type": "execute_result"
    }
   ],
   "source": [
    "arr.shape"
   ]
  },
  {
   "cell_type": "code",
   "execution_count": 8,
   "id": "35964973",
   "metadata": {},
   "outputs": [
    {
     "data": {
      "text/plain": [
       "6"
      ]
     },
     "execution_count": 8,
     "metadata": {},
     "output_type": "execute_result"
    }
   ],
   "source": [
    "arr.size"
   ]
  },
  {
   "cell_type": "code",
   "execution_count": 9,
   "id": "5063a63b",
   "metadata": {},
   "outputs": [
    {
     "data": {
      "text/plain": [
       "dtype('int32')"
      ]
     },
     "execution_count": 9,
     "metadata": {},
     "output_type": "execute_result"
    }
   ],
   "source": [
    "arr.dtype"
   ]
  },
  {
   "cell_type": "code",
   "execution_count": 10,
   "id": "c1430d0a",
   "metadata": {},
   "outputs": [
    {
     "name": "stdout",
     "output_type": "stream",
     "text": [
      "Array ceated using passed list :\n",
      " [[1. 2. 4.]\n",
      " [5. 5. 6.]\n",
      " [8. 9. 7.]]\n"
     ]
    }
   ],
   "source": [
    "#creating array from list with type float\n",
    "a = np.array([[1 , 2 , 4] , [5 , 5 , 6] , [8, 9 ,7]] , dtype = 'float')\n",
    "print (\"Array ceated using passed list :\\n\", a)"
   ]
  },
  {
   "cell_type": "code",
   "execution_count": 11,
   "id": "ca5da7d8",
   "metadata": {},
   "outputs": [
    {
     "data": {
      "text/plain": [
       "array([[1., 1., 1., 1.],\n",
       "       [1., 1., 1., 1.],\n",
       "       [1., 1., 1., 1.]])"
      ]
     },
     "execution_count": 11,
     "metadata": {},
     "output_type": "execute_result"
    }
   ],
   "source": [
    "np.ones ((3 , 4))"
   ]
  },
  {
   "cell_type": "code",
   "execution_count": 12,
   "id": "71c4851a",
   "metadata": {},
   "outputs": [
    {
     "data": {
      "text/plain": [
       "array([[1., 0., 0., 0.],\n",
       "       [0., 1., 0., 0.],\n",
       "       [0., 0., 1., 0.],\n",
       "       [0., 0., 0., 1.]])"
      ]
     },
     "execution_count": 12,
     "metadata": {},
     "output_type": "execute_result"
    }
   ],
   "source": [
    "np.eye(4)"
   ]
  },
  {
   "cell_type": "code",
   "execution_count": 13,
   "id": "9b45b55b",
   "metadata": {},
   "outputs": [],
   "source": [
    "np.arange?"
   ]
  },
  {
   "cell_type": "code",
   "execution_count": 14,
   "id": "19b0e469",
   "metadata": {},
   "outputs": [
    {
     "name": "stdout",
     "output_type": "stream",
     "text": [
      "\n",
      " Sequential array with step of 5 :\n",
      " [ 0  5 10 15 20 25]\n",
      "\n",
      " Sequential array with 10 vlaues btween 0 and 5:\n",
      " [0.         0.55555556 1.11111111 1.66666667 2.22222222 2.77777778\n",
      " 3.33333333 3.88888889 4.44444444 5.        ]\n"
     ]
    }
   ],
   "source": [
    "f = np.arange(0,30,5)\n",
    "print (\"\\n Sequential array with step of 5 :\\n\", f)\n",
    "\n",
    "g = np.linspace(0,5,10)\n",
    "print (\"\\n Sequential array with 10 vlaues btween 0 and 5:\\n\" , g)"
   ]
  },
  {
   "cell_type": "code",
   "execution_count": 15,
   "id": "7144be84",
   "metadata": {},
   "outputs": [],
   "source": [
    "arr = np.array ([[1 , 2, 3, 4],\n",
    "                 [5 , 4 , 6, 7],\n",
    "                 [1, 45, 67 ,89]])\n",
    "newarr = arr.reshape(2,2, 3)"
   ]
  },
  {
   "cell_type": "code",
   "execution_count": 16,
   "id": "9d0c9587",
   "metadata": {},
   "outputs": [
    {
     "data": {
      "text/plain": [
       "array([[[ 1,  2,  3],\n",
       "        [ 4,  5,  4]],\n",
       "\n",
       "       [[ 6,  7,  1],\n",
       "        [45, 67, 89]]])"
      ]
     },
     "execution_count": 16,
     "metadata": {},
     "output_type": "execute_result"
    }
   ],
   "source": [
    "newarr"
   ]
  },
  {
   "cell_type": "code",
   "execution_count": 17,
   "id": "ac64c7d2",
   "metadata": {},
   "outputs": [],
   "source": [
    "arr = np.array([[1 , -1, 2 ,5.0 ],\n",
    "               [3, 4.8 ,-3, 7],\n",
    "               [4, 9.0 , -34 , 67],\n",
    "               [34, 67, 6.8 , 43]])\n"
   ]
  },
  {
   "cell_type": "code",
   "execution_count": 18,
   "id": "f4891bc5",
   "metadata": {},
   "outputs": [
    {
     "data": {
      "text/plain": [
       "array([[  1. ,  -1. ,   2. ,   5. ],\n",
       "       [  3. ,   4.8,  -3. ,   7. ],\n",
       "       [  4. ,   9. , -34. ,  67. ],\n",
       "       [ 34. ,  67. ,   6.8,  43. ]])"
      ]
     },
     "execution_count": 18,
     "metadata": {},
     "output_type": "execute_result"
    }
   ],
   "source": [
    "arr\n"
   ]
  },
  {
   "cell_type": "code",
   "execution_count": 19,
   "id": "51c0f083",
   "metadata": {},
   "outputs": [
    {
     "data": {
      "text/plain": [
       "array([[  3. ,   4.8,  -3. ],\n",
       "       [  4. ,   9. , -34. ],\n",
       "       [ 34. ,  67. ,   6.8]])"
      ]
     },
     "execution_count": 19,
     "metadata": {},
     "output_type": "execute_result"
    }
   ],
   "source": [
    "arr[ 1: , :3]"
   ]
  },
  {
   "cell_type": "code",
   "execution_count": 20,
   "id": "e035b8bb",
   "metadata": {},
   "outputs": [
    {
     "data": {
      "text/plain": [
       "array([[ 3. , -3. ],\n",
       "       [34. ,  6.8]])"
      ]
     },
     "execution_count": 20,
     "metadata": {},
     "output_type": "execute_result"
    }
   ],
   "source": [
    "arr[1::2,:3:2]"
   ]
  },
  {
   "cell_type": "code",
   "execution_count": 21,
   "id": "d8cb1096",
   "metadata": {},
   "outputs": [],
   "source": [
    "#arr[starting index :end+1 : step size , starting index : end+1: step size]  #[row , col]"
   ]
  },
  {
   "cell_type": "code",
   "execution_count": 22,
   "id": "750f4d25",
   "metadata": {},
   "outputs": [],
   "source": [
    "a = np.array ([1,2 ,3 ,4]) #broad casting  feature"
   ]
  },
  {
   "cell_type": "code",
   "execution_count": 23,
   "id": "57ec1d87",
   "metadata": {},
   "outputs": [
    {
     "data": {
      "text/plain": [
       "array([1, 2, 3, 4])"
      ]
     },
     "execution_count": 23,
     "metadata": {},
     "output_type": "execute_result"
    }
   ],
   "source": [
    "a"
   ]
  },
  {
   "cell_type": "code",
   "execution_count": 24,
   "id": "85e1253e",
   "metadata": {},
   "outputs": [
    {
     "data": {
      "text/plain": [
       "array([2, 3, 4, 5])"
      ]
     },
     "execution_count": 24,
     "metadata": {},
     "output_type": "execute_result"
    }
   ],
   "source": [
    "a+1"
   ]
  },
  {
   "cell_type": "code",
   "execution_count": 25,
   "id": "5d69034d",
   "metadata": {},
   "outputs": [],
   "source": [
    "#transpose of an array"
   ]
  },
  {
   "cell_type": "code",
   "execution_count": 26,
   "id": "026d7273",
   "metadata": {},
   "outputs": [],
   "source": [
    "a = np.array ([[ 1 , 2 , 31] , [2, 6 , 7], [8 , 9 , 10]])"
   ]
  },
  {
   "cell_type": "code",
   "execution_count": 27,
   "id": "8151bd86",
   "metadata": {},
   "outputs": [
    {
     "data": {
      "text/plain": [
       "array([[ 1,  2, 31],\n",
       "       [ 2,  6,  7],\n",
       "       [ 8,  9, 10]])"
      ]
     },
     "execution_count": 27,
     "metadata": {},
     "output_type": "execute_result"
    }
   ],
   "source": [
    "a"
   ]
  },
  {
   "cell_type": "code",
   "execution_count": 28,
   "id": "ded9e71d",
   "metadata": {},
   "outputs": [
    {
     "data": {
      "text/plain": [
       "array([[ 1,  2,  8],\n",
       "       [ 2,  6,  9],\n",
       "       [31,  7, 10]])"
      ]
     },
     "execution_count": 28,
     "metadata": {},
     "output_type": "execute_result"
    }
   ],
   "source": [
    "a.T"
   ]
  },
  {
   "cell_type": "code",
   "execution_count": 29,
   "id": "6cc4f4c7",
   "metadata": {},
   "outputs": [
    {
     "data": {
      "text/plain": [
       "31"
      ]
     },
     "execution_count": 29,
     "metadata": {},
     "output_type": "execute_result"
    }
   ],
   "source": [
    "a.max() #printing the maximum ele of array"
   ]
  },
  {
   "cell_type": "code",
   "execution_count": 30,
   "id": "daaef9de",
   "metadata": {},
   "outputs": [
    {
     "name": "stdout",
     "output_type": "stream",
     "text": [
      "printing the maximum ele acc to row wise : [31  7 10]\n"
     ]
    }
   ],
   "source": [
    "print (\"printing the maximum ele acc to row wise :\", a.max(axis = 1))"
   ]
  },
  {
   "cell_type": "code",
   "execution_count": 31,
   "id": "73a477be",
   "metadata": {},
   "outputs": [
    {
     "name": "stdout",
     "output_type": "stream",
     "text": [
      "colwise minimum ele: [1 2 7]\n"
     ]
    }
   ],
   "source": [
    "print (\"colwise minimum ele:\", a.min(axis = 0))"
   ]
  },
  {
   "cell_type": "code",
   "execution_count": 32,
   "id": "94400ced",
   "metadata": {},
   "outputs": [
    {
     "name": "stdout",
     "output_type": "stream",
     "text": [
      "sum of all array ele : 76\n"
     ]
    }
   ],
   "source": [
    "print (\"sum of all array ele :\", a.sum()) "
   ]
  },
  {
   "cell_type": "code",
   "execution_count": 34,
   "id": "132db3e2",
   "metadata": {},
   "outputs": [
    {
     "name": "stdout",
     "output_type": "stream",
     "text": [
      "Cumulative sum along each row:\n",
      " [[ 1  3 34]\n",
      " [ 2  8 15]\n",
      " [ 8 17 27]]\n"
     ]
    }
   ],
   "source": [
    "print (\"Cumulative sum along each row:\\n\", a.cumsum(axis = 1))"
   ]
  },
  {
   "cell_type": "markdown",
   "id": "0e1037d0",
   "metadata": {},
   "source": [
    "# Operations on matrix"
   ]
  },
  {
   "cell_type": "code",
   "execution_count": 35,
   "id": "302f2c97",
   "metadata": {},
   "outputs": [
    {
     "name": "stdout",
     "output_type": "stream",
     "text": [
      "Array sum : \n",
      " [[5 5]\n",
      " [5 5]]\n",
      "Array multiplication : \n",
      " [[4 6]\n",
      " [6 4]]\n",
      "Matrix multiplication : \n",
      " [[ 8  5]\n",
      " [20 13]]\n"
     ]
    }
   ],
   "source": [
    "a = np .array([[1 , 2],\n",
    "              [3 , 4]])\n",
    "b = np.array([[4, 3],\n",
    "             [2, 1]])\n",
    "\n",
    "#add array\n",
    "print(\"Array sum : \\n\", a + b)\n",
    "\n",
    "#multiply arrays (elementwise multiplication)\n",
    "print(\"Array multiplication : \\n\", a * b)\n",
    "\n",
    "#matrix multiplication\n",
    "print(\"Matrix multiplication : \\n\", a.dot(b))"
   ]
  },
  {
   "cell_type": "code",
   "execution_count": 36,
   "id": "ec92b1c4",
   "metadata": {},
   "outputs": [
    {
     "name": "stdout",
     "output_type": "stream",
     "text": [
      "Sine values of array element :  [0.0000000e+00 1.0000000e+00 1.2246468e-16]\n",
      "Exponent of array elements :  [ 1.          2.71828183  7.3890561  20.08553692]\n",
      "Square root of array elements :  [0.         1.         1.41421356 1.73205081]\n"
     ]
    }
   ],
   "source": [
    "#create an array of sine values\n",
    "a = np.array([0, np.pi/2, np.pi])\n",
    "print(\"Sine values of array element : \", np.sin(a))\n",
    "\n",
    "#exponential values\n",
    "a = np.array([0, 1, 2, 3])\n",
    "print(\"Exponent of array elements : \", np.exp(a))\n",
    "\n",
    "#square root of array values\n",
    "print(\"Square root of array elements : \", np.sqrt(a))"
   ]
  },
  {
   "cell_type": "markdown",
   "id": "b10c1986",
   "metadata": {},
   "source": [
    "# Sorting"
   ]
  },
  {
   "cell_type": "code",
   "execution_count": 37,
   "id": "c45f6167",
   "metadata": {},
   "outputs": [
    {
     "name": "stdout",
     "output_type": "stream",
     "text": [
      "Array elements in sorted order : \n",
      " [-1  0  1  2  3  4  4  5  6]\n",
      "Row-wise sorted array : \n",
      " [[ 1  2  4]\n",
      " [ 3  4  6]\n",
      " [-1  0  5]]\n",
      "Column-wise sort by applying merge sort :\n",
      " [[ 0 -1  2]\n",
      " [ 1  4  5]\n",
      " [ 3  4  6]]\n"
     ]
    }
   ],
   "source": [
    "a = np.array([[1, 4, 2],\n",
    "             [3, 4, 6],\n",
    "             [0, -1, 5]])\n",
    "\n",
    "#sorted array\n",
    "print(\"Array elements in sorted order : \\n\", np.sort(a, axis = None))\n",
    "\n",
    "#sort array row-wisw\n",
    "print(\"Row-wise sorted array : \\n\", np.sort(a, axis = 1))\n",
    "\n",
    "#specify sort algorithm\n",
    "print(\"Column-wise sort by applying merge sort :\\n\",np.sort(a, axis = 0, kind = 'mergesort'))\n",
    "\n"
   ]
  },
  {
   "cell_type": "markdown",
   "id": "979ac58f",
   "metadata": {},
   "source": [
    "# Stacking and Splitting"
   ]
  },
  {
   "cell_type": "code",
   "execution_count": 42,
   "id": "3da899c9",
   "metadata": {},
   "outputs": [
    {
     "name": "stdout",
     "output_type": "stream",
     "text": [
      "Vertical stacking:\n",
      " [[ 1  2 10]\n",
      " [ 3  4 77]\n",
      " [ 4  3  6]\n",
      " [ 2  1  7]]\n",
      "Horizontal stacking:\n",
      " [[ 1  2 10  4  3  6]\n",
      " [ 3  4 77  2  1  7]]\n",
      "\n",
      "Column stacking :\n",
      " [[ 1  2 10  5]\n",
      " [ 3  4 77  6]]\n",
      "\n",
      "Concatenating to 2nd axis :\n",
      " [[ 1  2 10  4  3  6]\n",
      " [ 3  4 77  2  1  7]]\n"
     ]
    }
   ],
   "source": [
    "a = np .array([[1 , 2, 10],\n",
    "              [3 , 4, 77]])\n",
    "b = np.array([[4, 3, 6],\n",
    "             [2, 1, 7]])\n",
    "\n",
    "#vertical stacking\n",
    "print(\"Vertical stacking:\\n\", np.vstack((a, b)))\n",
    "\n",
    "#horizontal stacking\n",
    "print(\"Horizontal stacking:\\n\", np.hstack((a, b)))\n",
    "\n",
    "c= [5, 6]\n",
    "\n",
    "#stacking column\n",
    "print(\"\\nColumn stacking :\\n\",np.column_stack((a, c)))\n",
    "\n",
    "#concatenation method\n",
    "print(\"\\nConcatenating to 2nd axis :\\n\", np.concatenate((a, b), 1))"
   ]
  },
  {
   "cell_type": "code",
   "execution_count": 44,
   "id": "0bee68ed",
   "metadata": {},
   "outputs": [
    {
     "name": "stdout",
     "output_type": "stream",
     "text": [
      "spiltting along horizontal axis into 2 parts : \n",
      " [array([[ 1, 32,  5],\n",
      "       [ 2,  4,  6]]), array([[ 7,  9, 11],\n",
      "       [ 8, 10, 12]])]\n",
      "\n",
      " Splitting along vertical axis into 2 parts :\n",
      " [array([[ 1, 32,  5,  7,  9, 11]]), array([[ 2,  4,  6,  8, 10, 12]])]\n"
     ]
    }
   ],
   "source": [
    "a = np.array ([[1 , 32, 5, 7 ,9 , 11],\n",
    "              [2 ,4, 6 , 8 , 10 , 12]])\n",
    "\n",
    "#horizontal splitting \n",
    "print(\"spiltting along horizontal axis into 2 parts : \\n\", np.hsplit (a, 2))\n",
    "\n",
    "#vertical splitting \n",
    "print (\"\\n Splitting along vertical axis into 2 parts :\\n\", np.vsplit(a , 2))\n"
   ]
  },
  {
   "cell_type": "code",
   "execution_count": null,
   "id": "804fa4f0",
   "metadata": {},
   "outputs": [],
   "source": []
  }
 ],
 "metadata": {
  "kernelspec": {
   "display_name": "Python 3 (ipykernel)",
   "language": "python",
   "name": "python3"
  },
  "language_info": {
   "codemirror_mode": {
    "name": "ipython",
    "version": 3
   },
   "file_extension": ".py",
   "mimetype": "text/x-python",
   "name": "python",
   "nbconvert_exporter": "python",
   "pygments_lexer": "ipython3",
   "version": "3.10.9"
  }
 },
 "nbformat": 4,
 "nbformat_minor": 5
}
