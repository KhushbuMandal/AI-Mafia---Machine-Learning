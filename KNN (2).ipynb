{
  "nbformat": 4,
  "nbformat_minor": 0,
  "metadata": {
    "colab": {
      "provenance": []
    },
    "kernelspec": {
      "name": "python3",
      "display_name": "Python 3"
    },
    "language_info": {
      "name": "python"
    }
  },
  "cells": [
    {
      "cell_type": "code",
      "execution_count": null,
      "metadata": {
        "colab": {
          "base_uri": "https://localhost:8080/"
        },
        "id": "oIvVDJ-OFFg5",
        "outputId": "4f448177-ca63-4f13-c079-a3d7d98b2a42"
      },
      "outputs": [
        {
          "output_type": "stream",
          "name": "stderr",
          "text": [
            "<ipython-input-1-51c1d4841fc1>:4: MatplotlibDeprecationWarning: The seaborn styles shipped by Matplotlib are deprecated since 3.6, as they no longer correspond to the styles shipped by seaborn. However, they will remain available as 'seaborn-v0_8-<style>'. Alternatively, directly use the seaborn API instead.\n",
            "  plt.style.use('seaborn')\n"
          ]
        }
      ],
      "source": [
        "import numpy as np\n",
        "import pandas as pd\n",
        "import matplotlib.pyplot as plt\n",
        "plt.style.use('seaborn')\n"
      ]
    },
    {
      "cell_type": "code",
      "source": [
        "dfx = pd.read_csv('/content/xdata (1).csv')"
      ],
      "metadata": {
        "id": "2kqBr-5dFdse"
      },
      "execution_count": null,
      "outputs": []
    },
    {
      "cell_type": "code",
      "source": [
        "dfy = pd.read_csv('/content/ydata.csv')"
      ],
      "metadata": {
        "id": "FBMIy2noF2Ff"
      },
      "execution_count": null,
      "outputs": []
    },
    {
      "cell_type": "code",
      "source": [
        "print (dfx.shape)"
      ],
      "metadata": {
        "colab": {
          "base_uri": "https://localhost:8080/"
        },
        "id": "fLZeC5UaF853",
        "outputId": "7b54ea50-d03f-4c2e-89af-f9ef6b54520a"
      },
      "execution_count": null,
      "outputs": [
        {
          "output_type": "stream",
          "name": "stdout",
          "text": [
            "(399, 3)\n"
          ]
        }
      ]
    },
    {
      "cell_type": "code",
      "source": [
        "print (dfy.shape)"
      ],
      "metadata": {
        "colab": {
          "base_uri": "https://localhost:8080/"
        },
        "id": "CMb1lqD_GBte",
        "outputId": "24a3ff00-fcf8-4ed6-d782-887b38ea6a96"
      },
      "execution_count": null,
      "outputs": [
        {
          "output_type": "stream",
          "name": "stdout",
          "text": [
            "(399, 2)\n"
          ]
        }
      ]
    },
    {
      "cell_type": "code",
      "source": [
        "# Conversion into Numpy Array"
      ],
      "metadata": {
        "id": "vKCLwntuGKrN"
      },
      "execution_count": null,
      "outputs": []
    },
    {
      "cell_type": "code",
      "source": [
        "x = dfx.values\n",
        "y = dfy.values"
      ],
      "metadata": {
        "id": "kqrL4kLqGdbL"
      },
      "execution_count": null,
      "outputs": []
    },
    {
      "cell_type": "code",
      "source": [
        "#print (x)\n",
        "print (y)"
      ],
      "metadata": {
        "colab": {
          "base_uri": "https://localhost:8080/"
        },
        "id": "D7AnuI5EGoz0",
        "outputId": "4e86e6f1-b4f0-4836-f65c-c8a3ecca54e2"
      },
      "execution_count": null,
      "outputs": [
        {
          "output_type": "stream",
          "name": "stdout",
          "text": [
            "[[  1.   0.]\n",
            " [  2.   0.]\n",
            " [  3.   0.]\n",
            " [  4.   0.]\n",
            " [  5.   0.]\n",
            " [  6.   0.]\n",
            " [  7.   0.]\n",
            " [  8.   0.]\n",
            " [  9.   0.]\n",
            " [ 10.   0.]\n",
            " [ 11.   0.]\n",
            " [ 12.   0.]\n",
            " [ 13.   0.]\n",
            " [ 14.   0.]\n",
            " [ 15.   0.]\n",
            " [ 16.   0.]\n",
            " [ 17.   0.]\n",
            " [ 18.   0.]\n",
            " [ 19.   0.]\n",
            " [ 20.   0.]\n",
            " [ 21.   0.]\n",
            " [ 22.   0.]\n",
            " [ 23.   0.]\n",
            " [ 24.   0.]\n",
            " [ 25.   0.]\n",
            " [ 26.   0.]\n",
            " [ 27.   0.]\n",
            " [ 28.   0.]\n",
            " [ 29.   0.]\n",
            " [ 30.   0.]\n",
            " [ 31.   0.]\n",
            " [ 32.   0.]\n",
            " [ 33.   0.]\n",
            " [ 34.   0.]\n",
            " [ 35.   0.]\n",
            " [ 36.   0.]\n",
            " [ 37.   0.]\n",
            " [ 38.   0.]\n",
            " [ 39.   0.]\n",
            " [ 40.   0.]\n",
            " [ 41.   0.]\n",
            " [ 42.   0.]\n",
            " [ 43.   0.]\n",
            " [ 44.   0.]\n",
            " [ 45.   0.]\n",
            " [ 46.   0.]\n",
            " [ 47.   0.]\n",
            " [ 48.   0.]\n",
            " [ 49.   0.]\n",
            " [ 50.   0.]\n",
            " [ 51.   0.]\n",
            " [ 52.   0.]\n",
            " [ 53.   0.]\n",
            " [ 54.   0.]\n",
            " [ 55.   0.]\n",
            " [ 56.   0.]\n",
            " [ 57.   0.]\n",
            " [ 58.   0.]\n",
            " [ 59.   0.]\n",
            " [ 60.   0.]\n",
            " [ 61.   0.]\n",
            " [ 62.   0.]\n",
            " [ 63.   0.]\n",
            " [ 64.   0.]\n",
            " [ 65.   0.]\n",
            " [ 66.   0.]\n",
            " [ 67.   0.]\n",
            " [ 68.   0.]\n",
            " [ 69.   0.]\n",
            " [ 70.   0.]\n",
            " [ 71.   0.]\n",
            " [ 72.   0.]\n",
            " [ 73.   0.]\n",
            " [ 74.   0.]\n",
            " [ 75.   0.]\n",
            " [ 76.   0.]\n",
            " [ 77.   0.]\n",
            " [ 78.   0.]\n",
            " [ 79.   0.]\n",
            " [ 80.   0.]\n",
            " [ 81.   0.]\n",
            " [ 82.   0.]\n",
            " [ 83.   0.]\n",
            " [ 84.   0.]\n",
            " [ 85.   0.]\n",
            " [ 86.   0.]\n",
            " [ 87.   0.]\n",
            " [ 88.   0.]\n",
            " [ 89.   0.]\n",
            " [ 90.   0.]\n",
            " [ 91.   0.]\n",
            " [ 92.   0.]\n",
            " [ 93.   0.]\n",
            " [ 94.   0.]\n",
            " [ 95.   0.]\n",
            " [ 96.   0.]\n",
            " [ 97.   0.]\n",
            " [ 98.   0.]\n",
            " [ 99.   0.]\n",
            " [100.   0.]\n",
            " [101.   0.]\n",
            " [102.   0.]\n",
            " [103.   0.]\n",
            " [104.   0.]\n",
            " [105.   0.]\n",
            " [106.   0.]\n",
            " [107.   0.]\n",
            " [108.   0.]\n",
            " [109.   0.]\n",
            " [110.   0.]\n",
            " [111.   0.]\n",
            " [112.   0.]\n",
            " [113.   0.]\n",
            " [114.   0.]\n",
            " [115.   0.]\n",
            " [116.   0.]\n",
            " [117.   0.]\n",
            " [118.   0.]\n",
            " [119.   0.]\n",
            " [120.   0.]\n",
            " [121.   0.]\n",
            " [122.   0.]\n",
            " [123.   0.]\n",
            " [124.   0.]\n",
            " [125.   0.]\n",
            " [126.   0.]\n",
            " [127.   0.]\n",
            " [128.   0.]\n",
            " [129.   0.]\n",
            " [130.   0.]\n",
            " [131.   0.]\n",
            " [132.   0.]\n",
            " [133.   0.]\n",
            " [134.   0.]\n",
            " [135.   0.]\n",
            " [136.   0.]\n",
            " [137.   0.]\n",
            " [138.   0.]\n",
            " [139.   0.]\n",
            " [140.   0.]\n",
            " [141.   0.]\n",
            " [142.   0.]\n",
            " [143.   0.]\n",
            " [144.   0.]\n",
            " [145.   0.]\n",
            " [146.   0.]\n",
            " [147.   0.]\n",
            " [148.   0.]\n",
            " [149.   0.]\n",
            " [150.   0.]\n",
            " [151.   0.]\n",
            " [152.   0.]\n",
            " [153.   0.]\n",
            " [154.   0.]\n",
            " [155.   0.]\n",
            " [156.   0.]\n",
            " [157.   0.]\n",
            " [158.   0.]\n",
            " [159.   0.]\n",
            " [160.   0.]\n",
            " [161.   0.]\n",
            " [162.   0.]\n",
            " [163.   0.]\n",
            " [164.   0.]\n",
            " [165.   0.]\n",
            " [166.   0.]\n",
            " [167.   0.]\n",
            " [168.   0.]\n",
            " [169.   0.]\n",
            " [170.   0.]\n",
            " [171.   0.]\n",
            " [172.   0.]\n",
            " [173.   0.]\n",
            " [174.   0.]\n",
            " [175.   0.]\n",
            " [176.   0.]\n",
            " [177.   0.]\n",
            " [178.   0.]\n",
            " [179.   0.]\n",
            " [180.   0.]\n",
            " [181.   0.]\n",
            " [182.   0.]\n",
            " [183.   0.]\n",
            " [184.   0.]\n",
            " [185.   0.]\n",
            " [186.   0.]\n",
            " [187.   0.]\n",
            " [188.   0.]\n",
            " [189.   0.]\n",
            " [190.   0.]\n",
            " [191.   0.]\n",
            " [192.   0.]\n",
            " [193.   0.]\n",
            " [194.   0.]\n",
            " [195.   0.]\n",
            " [196.   0.]\n",
            " [197.   0.]\n",
            " [198.   0.]\n",
            " [199.   0.]\n",
            " [200.   1.]\n",
            " [201.   1.]\n",
            " [202.   1.]\n",
            " [203.   1.]\n",
            " [204.   1.]\n",
            " [205.   1.]\n",
            " [206.   1.]\n",
            " [207.   1.]\n",
            " [208.   1.]\n",
            " [209.   1.]\n",
            " [210.   1.]\n",
            " [211.   1.]\n",
            " [212.   1.]\n",
            " [213.   1.]\n",
            " [214.   1.]\n",
            " [215.   1.]\n",
            " [216.   1.]\n",
            " [217.   1.]\n",
            " [218.   1.]\n",
            " [219.   1.]\n",
            " [220.   1.]\n",
            " [221.   1.]\n",
            " [222.   1.]\n",
            " [223.   1.]\n",
            " [224.   1.]\n",
            " [225.   1.]\n",
            " [226.   1.]\n",
            " [227.   1.]\n",
            " [228.   1.]\n",
            " [229.   1.]\n",
            " [230.   1.]\n",
            " [231.   1.]\n",
            " [232.   1.]\n",
            " [233.   1.]\n",
            " [234.   1.]\n",
            " [235.   1.]\n",
            " [236.   1.]\n",
            " [237.   1.]\n",
            " [238.   1.]\n",
            " [239.   1.]\n",
            " [240.   1.]\n",
            " [241.   1.]\n",
            " [242.   1.]\n",
            " [243.   1.]\n",
            " [244.   1.]\n",
            " [245.   1.]\n",
            " [246.   1.]\n",
            " [247.   1.]\n",
            " [248.   1.]\n",
            " [249.   1.]\n",
            " [250.   1.]\n",
            " [251.   1.]\n",
            " [252.   1.]\n",
            " [253.   1.]\n",
            " [254.   1.]\n",
            " [255.   1.]\n",
            " [256.   1.]\n",
            " [257.   1.]\n",
            " [258.   1.]\n",
            " [259.   1.]\n",
            " [260.   1.]\n",
            " [261.   1.]\n",
            " [262.   1.]\n",
            " [263.   1.]\n",
            " [264.   1.]\n",
            " [265.   1.]\n",
            " [266.   1.]\n",
            " [267.   1.]\n",
            " [268.   1.]\n",
            " [269.   1.]\n",
            " [270.   1.]\n",
            " [271.   1.]\n",
            " [272.   1.]\n",
            " [273.   1.]\n",
            " [274.   1.]\n",
            " [275.   1.]\n",
            " [276.   1.]\n",
            " [277.   1.]\n",
            " [278.   1.]\n",
            " [279.   1.]\n",
            " [280.   1.]\n",
            " [281.   1.]\n",
            " [282.   1.]\n",
            " [283.   1.]\n",
            " [284.   1.]\n",
            " [285.   1.]\n",
            " [286.   1.]\n",
            " [287.   1.]\n",
            " [288.   1.]\n",
            " [289.   1.]\n",
            " [290.   1.]\n",
            " [291.   1.]\n",
            " [292.   1.]\n",
            " [293.   1.]\n",
            " [294.   1.]\n",
            " [295.   1.]\n",
            " [296.   1.]\n",
            " [297.   1.]\n",
            " [298.   1.]\n",
            " [299.   1.]\n",
            " [300.   1.]\n",
            " [301.   1.]\n",
            " [302.   1.]\n",
            " [303.   1.]\n",
            " [304.   1.]\n",
            " [305.   1.]\n",
            " [306.   1.]\n",
            " [307.   1.]\n",
            " [308.   1.]\n",
            " [309.   1.]\n",
            " [310.   1.]\n",
            " [311.   1.]\n",
            " [312.   1.]\n",
            " [313.   1.]\n",
            " [314.   1.]\n",
            " [315.   1.]\n",
            " [316.   1.]\n",
            " [317.   1.]\n",
            " [318.   1.]\n",
            " [319.   1.]\n",
            " [320.   1.]\n",
            " [321.   1.]\n",
            " [322.   1.]\n",
            " [323.   1.]\n",
            " [324.   1.]\n",
            " [325.   1.]\n",
            " [326.   1.]\n",
            " [327.   1.]\n",
            " [328.   1.]\n",
            " [329.   1.]\n",
            " [330.   1.]\n",
            " [331.   1.]\n",
            " [332.   1.]\n",
            " [333.   1.]\n",
            " [334.   1.]\n",
            " [335.   1.]\n",
            " [336.   1.]\n",
            " [337.   1.]\n",
            " [338.   1.]\n",
            " [339.   1.]\n",
            " [340.   1.]\n",
            " [341.   1.]\n",
            " [342.   1.]\n",
            " [343.   1.]\n",
            " [344.   1.]\n",
            " [345.   1.]\n",
            " [346.   1.]\n",
            " [347.   1.]\n",
            " [348.   1.]\n",
            " [349.   1.]\n",
            " [350.   1.]\n",
            " [351.   1.]\n",
            " [352.   1.]\n",
            " [353.   1.]\n",
            " [354.   1.]\n",
            " [355.   1.]\n",
            " [356.   1.]\n",
            " [357.   1.]\n",
            " [358.   1.]\n",
            " [359.   1.]\n",
            " [360.   1.]\n",
            " [361.   1.]\n",
            " [362.   1.]\n",
            " [363.   1.]\n",
            " [364.   1.]\n",
            " [365.   1.]\n",
            " [366.   1.]\n",
            " [367.   1.]\n",
            " [368.   1.]\n",
            " [369.   1.]\n",
            " [370.   1.]\n",
            " [371.   1.]\n",
            " [372.   1.]\n",
            " [373.   1.]\n",
            " [374.   1.]\n",
            " [375.   1.]\n",
            " [376.   1.]\n",
            " [377.   1.]\n",
            " [378.   1.]\n",
            " [379.   1.]\n",
            " [380.   1.]\n",
            " [381.   1.]\n",
            " [382.   1.]\n",
            " [383.   1.]\n",
            " [384.   1.]\n",
            " [385.   1.]\n",
            " [386.   1.]\n",
            " [387.   1.]\n",
            " [388.   1.]\n",
            " [389.   1.]\n",
            " [390.   1.]\n",
            " [391.   1.]\n",
            " [392.   1.]\n",
            " [393.   1.]\n",
            " [394.   1.]\n",
            " [395.   1.]\n",
            " [396.   1.]\n",
            " [397.   1.]\n",
            " [398.   1.]\n",
            " [399.   1.]]\n"
          ]
        }
      ]
    },
    {
      "cell_type": "code",
      "source": [
        "x = x[: ,1:]\n",
        "y = y[: ,1:].reshape((-1,))\n"
      ],
      "metadata": {
        "id": "rXXMWcIpGq82"
      },
      "execution_count": null,
      "outputs": []
    },
    {
      "cell_type": "code",
      "source": [
        "#print (x)\n",
        "print (y)"
      ],
      "metadata": {
        "colab": {
          "base_uri": "https://localhost:8080/"
        },
        "id": "53WVyFPwHAdr",
        "outputId": "0da9ca4e-03fa-4380-acc6-afe760f207c1"
      },
      "execution_count": null,
      "outputs": [
        {
          "output_type": "stream",
          "name": "stdout",
          "text": [
            "[0. 0. 0. 0. 0. 0. 0. 0. 0. 0. 0. 0. 0. 0. 0. 0. 0. 0. 0. 0. 0. 0. 0. 0.\n",
            " 0. 0. 0. 0. 0. 0. 0. 0. 0. 0. 0. 0. 0. 0. 0. 0. 0. 0. 0. 0. 0. 0. 0. 0.\n",
            " 0. 0. 0. 0. 0. 0. 0. 0. 0. 0. 0. 0. 0. 0. 0. 0. 0. 0. 0. 0. 0. 0. 0. 0.\n",
            " 0. 0. 0. 0. 0. 0. 0. 0. 0. 0. 0. 0. 0. 0. 0. 0. 0. 0. 0. 0. 0. 0. 0. 0.\n",
            " 0. 0. 0. 0. 0. 0. 0. 0. 0. 0. 0. 0. 0. 0. 0. 0. 0. 0. 0. 0. 0. 0. 0. 0.\n",
            " 0. 0. 0. 0. 0. 0. 0. 0. 0. 0. 0. 0. 0. 0. 0. 0. 0. 0. 0. 0. 0. 0. 0. 0.\n",
            " 0. 0. 0. 0. 0. 0. 0. 0. 0. 0. 0. 0. 0. 0. 0. 0. 0. 0. 0. 0. 0. 0. 0. 0.\n",
            " 0. 0. 0. 0. 0. 0. 0. 0. 0. 0. 0. 0. 0. 0. 0. 0. 0. 0. 0. 0. 0. 0. 0. 0.\n",
            " 0. 0. 0. 0. 0. 0. 0. 1. 1. 1. 1. 1. 1. 1. 1. 1. 1. 1. 1. 1. 1. 1. 1. 1.\n",
            " 1. 1. 1. 1. 1. 1. 1. 1. 1. 1. 1. 1. 1. 1. 1. 1. 1. 1. 1. 1. 1. 1. 1. 1.\n",
            " 1. 1. 1. 1. 1. 1. 1. 1. 1. 1. 1. 1. 1. 1. 1. 1. 1. 1. 1. 1. 1. 1. 1. 1.\n",
            " 1. 1. 1. 1. 1. 1. 1. 1. 1. 1. 1. 1. 1. 1. 1. 1. 1. 1. 1. 1. 1. 1. 1. 1.\n",
            " 1. 1. 1. 1. 1. 1. 1. 1. 1. 1. 1. 1. 1. 1. 1. 1. 1. 1. 1. 1. 1. 1. 1. 1.\n",
            " 1. 1. 1. 1. 1. 1. 1. 1. 1. 1. 1. 1. 1. 1. 1. 1. 1. 1. 1. 1. 1. 1. 1. 1.\n",
            " 1. 1. 1. 1. 1. 1. 1. 1. 1. 1. 1. 1. 1. 1. 1. 1. 1. 1. 1. 1. 1. 1. 1. 1.\n",
            " 1. 1. 1. 1. 1. 1. 1. 1. 1. 1. 1. 1. 1. 1. 1. 1. 1. 1. 1. 1. 1. 1. 1. 1.\n",
            " 1. 1. 1. 1. 1. 1. 1. 1. 1. 1. 1. 1. 1. 1. 1.]\n"
          ]
        }
      ]
    },
    {
      "cell_type": "code",
      "source": [
        "query = np.array([2,3])\n",
        "plt.scatter(query[0], query[1], c='red')\n",
        "plt.scatter(x[:, 0], x[: ,1] , c=y)\n",
        "plt.show()"
      ],
      "metadata": {
        "colab": {
          "base_uri": "https://localhost:8080/",
          "height": 484
        },
        "id": "khN3-FDnHJKu",
        "outputId": "5ee68f35-b7fa-4e19-c794-2f2b8e72551b"
      },
      "execution_count": null,
      "outputs": [
        {
          "output_type": "display_data",
          "data": {
            "text/plain": [
              "<Figure size 800x550 with 1 Axes>"
            ],
            "image/png": "[encoded data removed]"
          },
          "metadata": {}
        }
      ]
    },
    {
      "cell_type": "code",
      "source": [
        "# find out prediction for query point"
      ],
      "metadata": {
        "id": "2x_FmcqjKT80"
      },
      "execution_count": null,
      "outputs": []
    },
    {
      "cell_type": "code",
      "source": [
        "# KNN code"
      ],
      "metadata": {
        "id": "gIq7MooULpHJ"
      },
      "execution_count": null,
      "outputs": []
    },
    {
      "cell_type": "code",
      "source": [
        "# To find K Nearest Neighbours\n",
        "# based on distance"
      ],
      "metadata": {
        "id": "HnAj08R6MJDC"
      },
      "execution_count": null,
      "outputs": []
    },
    {
      "cell_type": "code",
      "source": [
        "# Distance Formula Between Two NumpY Arrays - Euclidean distance\n",
        "def distance (x1 , x2) :\n",
        "  return np.sqrt (sum((x1 - x2)**2))"
      ],
      "metadata": {
        "id": "yHsf6fPOMVJV"
      },
      "execution_count": null,
      "outputs": []
    },
    {
      "cell_type": "code",
      "source": [
        "# KNN ALGO\n",
        "\n",
        "def knn (x , y , querypoint , k = 5 ) :\n",
        "\n",
        "   # Pick K Nearest Neighbours\n",
        "\n",
        "   values = []\n",
        "\n",
        "   #for every point in the x\n",
        "\n",
        "   for i in range (x.shape[0]) :\n",
        "\n",
        "    #compute distance\n",
        "    d = distance(querypoint , x[i])\n",
        "    values.append ((d , y[i]))\n",
        "\n",
        "  # print(values)\n",
        "\n",
        "   # Sort The array and find K nearest points\n",
        "   values = values [:k]\n",
        "\n",
        "   #Majority Vote\n",
        "   values = np.array(values)\n",
        "   new_values = np.unique(values[: , 1], return_counts = True)\n",
        "   print ( new_values)\n",
        "\n",
        "\n",
        "   #index of the maximum count\n",
        "   index = new_values[1].argmax()\n",
        "\n",
        "   #map this index withmy data\n",
        "   pred =  new_values[0][index]\n",
        "\n",
        "   return pred\n",
        "\n",
        "\n",
        "\n"
      ],
      "metadata": {
        "id": "lqp1q3Z2NGyY"
      },
      "execution_count": null,
      "outputs": []
    },
    {
      "cell_type": "code",
      "source": [
        "knn (x , y ,[0,1])"
      ],
      "metadata": {
        "colab": {
          "base_uri": "https://localhost:8080/"
        },
        "id": "52axoVirRTjM",
        "outputId": "025821be-a8cd-4b19-a203-6d8560906e96"
      },
      "execution_count": null,
      "outputs": [
        {
          "output_type": "stream",
          "name": "stdout",
          "text": [
            "(array([0.]), array([5]))\n"
          ]
        },
        {
          "output_type": "execute_result",
          "data": {
            "text/plain": [
              "0.0"
            ]
          },
          "metadata": {},
          "execution_count": 23
        }
      ]
    },
    {
      "cell_type": "code",
      "source": [
        "np.unique?"
      ],
      "metadata": {
        "id": "Q8F4DuqrRffQ"
      },
      "execution_count": null,
      "outputs": []
    },
    {
      "cell_type": "code",
      "source": [
        "data , count = np.unique ([1 ,1 , 2 ,2 , 3 ,3 ,3 ] , return_counts = True)"
      ],
      "metadata": {
        "id": "RzdlckTJTlV-"
      },
      "execution_count": null,
      "outputs": []
    },
    {
      "cell_type": "code",
      "source": [
        "data"
      ],
      "metadata": {
        "colab": {
          "base_uri": "https://localhost:8080/"
        },
        "id": "zM1Zae0OT9I7",
        "outputId": "4f1bab35-cbd0-468a-c623-72e75150f6f9"
      },
      "execution_count": null,
      "outputs": [
        {
          "output_type": "execute_result",
          "data": {
            "text/plain": [
              "array([1, 2, 3])"
            ]
          },
          "metadata": {},
          "execution_count": 20
        }
      ]
    },
    {
      "cell_type": "code",
      "source": [
        "count"
      ],
      "metadata": {
        "colab": {
          "base_uri": "https://localhost:8080/"
        },
        "id": "3Q3-NE9fU5C5",
        "outputId": "e82f4ed0-d106-4bcc-a168-370afd04c49c"
      },
      "execution_count": null,
      "outputs": [
        {
          "output_type": "execute_result",
          "data": {
            "text/plain": [
              "array([2, 2, 3])"
            ]
          },
          "metadata": {},
          "execution_count": 21
        }
      ]
    },
    {
      "cell_type": "code",
      "source": [],
      "metadata": {
        "id": "S4B2dwygU6jx"
      },
      "execution_count": null,
      "outputs": []
    }
  ]
}